{
  "cells": [
    {
      "cell_type": "markdown",
      "id": "8e7dea63",
      "metadata": {
        "papermill": {
          "duration": 0.021301,
          "end_time": "2021-09-04T02:13:39.309585",
          "exception": false,
          "start_time": "2021-09-04T02:13:39.288284",
          "status": "completed"
        },
        "tags": [],
        "id": "8e7dea63"
      },
      "source": [
        "# Deep Learning based Diabetic Retinopathy Detection\n"
      ]
    },
    {
      "cell_type": "markdown",
      "metadata": {
        "papermill": {
          "duration": 0.036227,
          "end_time": "2021-09-04T02:13:41.007530",
          "exception": false,
          "start_time": "2021-09-04T02:13:40.971303",
          "status": "completed"
        },
        "tags": [],
        "id": "2c42e253"
      },
      "source": [
        "**Dataset Used:**  https://www.kaggle.com/c/aptos2019-blindness-detection/data. "
      ],
      "id": "2c42e253"
    },
    {
      "cell_type": "markdown",
      "source": [
        "## Linking kaggle API and downloading dataset"
      ],
      "metadata": {
        "id": "OWi7rRVMFES9"
      },
      "id": "OWi7rRVMFES9"
    },
    {
      "cell_type": "code",
      "source": [
        "!pip install -q kaggle"
      ],
      "metadata": {
        "id": "O0oFSTfX-cUV"
      },
      "execution_count": 2,
      "outputs": [],
      "id": "O0oFSTfX-cUV"
    },
    {
      "cell_type": "code",
      "source": [
        "from google.colab import files"
      ],
      "metadata": {
        "id": "sFgMl51B-nrY"
      },
      "execution_count": 16,
      "outputs": [],
      "id": "sFgMl51B-nrY"
    },
    {
      "cell_type": "code",
      "source": [
        "files.upload()"
      ],
      "metadata": {
        "colab": {
          "resources": {
            "http://localhost:8080/nbextensions/google.colab/files.js": {
              "data": "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",
              "ok": true,
              "headers": [
                [
                  "content-type",
                  "application/javascript"
                ]
              ],
              "status": 200,
              "status_text": ""
            }
          },
          "base_uri": "https://localhost:8080/",
          "height": 91
        },
        "id": "ZamMHgH8-5lh",
        "outputId": "2e9c0bc3-f085-4fa7-d558-8454f8e749c1"
      },
      "execution_count": 17,
      "outputs": [
        {
          "output_type": "display_data",
          "data": {
            "text/plain": [
              "<IPython.core.display.HTML object>"
            ],
            "text/html": [
              "\n",
              "     <input type=\"file\" id=\"files-11766256-a2ba-461d-a582-05ee34285460\" name=\"files[]\" multiple disabled\n",
              "        style=\"border:none\" />\n",
              "     <output id=\"result-11766256-a2ba-461d-a582-05ee34285460\">\n",
              "      Upload widget is only available when the cell has been executed in the\n",
              "      current browser session. Please rerun this cell to enable.\n",
              "      </output>\n",
              "      <script src=\"/nbextensions/google.colab/files.js\"></script> "
            ]
          },
          "metadata": {}
        },
        {
          "output_type": "stream",
          "name": "stdout",
          "text": [
            "Saving kaggle (1).json to kaggle (1).json\n"
          ]
        },
        {
          "output_type": "execute_result",
          "data": {
            "text/plain": [
              "{'kaggle (1).json': b'{\"username\":\"mohitmeena123\",\"key\":\"8086d92e0396386776934057905b4e94\"}'}"
            ]
          },
          "metadata": {},
          "execution_count": 17
        }
      ],
      "id": "ZamMHgH8-5lh"
    },
    {
      "cell_type": "code",
      "source": [
        "!mkdir ~/.kaggle"
      ],
      "metadata": {
        "colab": {
          "base_uri": "https://localhost:8080/"
        },
        "id": "CSSxW4u7-9_o",
        "outputId": "38d8ab4a-5e3d-4f3f-eca6-bc2885542bfd"
      },
      "execution_count": 18,
      "outputs": [
        {
          "output_type": "stream",
          "name": "stdout",
          "text": [
            "mkdir: cannot create directory ‘/root/.kaggle’: File exists\n"
          ]
        }
      ],
      "id": "CSSxW4u7-9_o"
    },
    {
      "cell_type": "code",
      "source": [
        "!cp kaggle.json ~/.kaggle/"
      ],
      "metadata": {
        "id": "mj7xBwfm_Rs8"
      },
      "execution_count": 6,
      "outputs": [],
      "id": "mj7xBwfm_Rs8"
    },
    {
      "cell_type": "code",
      "source": [
        "!chmod 600 ~/.kaggle/kaggle.json"
      ],
      "metadata": {
        "id": "z46RUdcm_Z6Q"
      },
      "execution_count": 7,
      "outputs": [],
      "id": "z46RUdcm_Z6Q"
    },
    {
      "cell_type": "code",
      "source": [
        "!kaggle datasets list"
      ],
      "metadata": {
        "colab": {
          "base_uri": "https://localhost:8080/"
        },
        "id": "E31XmjCvARKl",
        "outputId": "dd831b26-74b3-4d84-8e51-08dea13dd639"
      },
      "execution_count": 8,
      "outputs": [
        {
          "output_type": "stream",
          "name": "stdout",
          "text": [
            "ref                                                       title                                              size  lastUpdated          downloadCount  voteCount  usabilityRating  \n",
            "--------------------------------------------------------  ------------------------------------------------  -----  -------------------  -------------  ---------  ---------------  \n",
            "ruchi798/data-science-job-salaries                        Data Science Job Salaries                           7KB  2022-06-15 08:59:12          10016        326  1.0              \n",
            "surajjha101/bigbasket-entire-product-list-28k-datapoints  BigBasket Entire Product List (~28K datapoints)     6MB  2022-06-22 12:51:18           3340        125  1.0              \n",
            "zusmani/petrolgas-prices-worldwide                        Petrol/Gas Prices Worldwide                        10KB  2022-06-24 01:25:33           2800        123  1.0              \n",
            "ramjasmaurya/1-gb-internet-price                          Internet Prices around 200+ countries in 2022.     22KB  2022-07-17 02:56:12           1753         56  0.9705882        \n",
            "sameepvani/nasa-nearest-earth-objects                     NASA - Nearest Earth Objects                        7MB  2022-06-17 02:32:18           3056        131  1.0              \n",
            "jimschacko/airlines-dataset-to-predict-a-delay            Airlines Dataset to predict a delay                 6MB  2022-06-21 05:45:44           2818         70  1.0              \n",
            "dansbecker/melbourne-housing-snapshot                     Melbourne Housing Snapshot                        451KB  2018-06-05 12:52:24          91712       1114  0.7058824        \n",
            "mukuldeshantri/ecommerce-fashion-dataset                  E-commerce Dataset with 30K Products              546KB  2022-07-08 12:28:18           1230         44  1.0              \n",
            "iamsouravbanerjee/nifty500-stocks-dataset                 Stock Market Dataset (NIFTY-500)                   35KB  2022-07-17 11:46:10           1036         68  1.0              \n",
            "gabrielsantello/cars-purchase-decision-dataset            Cars - Purchase Decision Dataset                    6KB  2022-07-09 13:18:38            951         31  1.0              \n",
            "datasnaek/youtube-new                                     Trending YouTube Video Statistics                 201MB  2019-06-03 00:56:47         179960       4614  0.7941176        \n",
            "zynicide/wine-reviews                                     Wine Reviews                                       51MB  2017-11-27 17:08:04         163502       3338  0.7941176        \n",
            "datasnaek/chess                                           Chess Game Dataset (Lichess)                        3MB  2017-09-04 03:09:09          30591       1020  0.8235294        \n",
            "rtatman/188-million-us-wildfires                          1.88 Million US Wildfires                         168MB  2020-05-12 21:03:49          20815       1022  0.8235294        \n",
            "residentmario/ramen-ratings                               Ramen Ratings                                      40KB  2018-01-11 16:04:39          34909        798  0.7058824        \n",
            "dansbecker/powerlifting-database                          powerlifting-database                               9MB  2019-04-30 21:07:41           5011         63  0.5882353        \n",
            "jpmiller/publicassistance                                 US Public Food Assistance                         703KB  2020-08-21 16:51:18          16682        396  0.9117647        \n",
            "nasa/kepler-exoplanet-search-results                      Kepler Exoplanet Search Results                     1MB  2017-10-10 18:26:59          10671        665  0.8235294        \n",
            "residentmario/things-on-reddit                            Things on Reddit                                   16MB  2017-10-26 14:10:15           8710        217  0.5882353        \n",
            "nolanbconaway/pitchfork-data                              18,393 Pitchfork Reviews                           33MB  2017-01-13 04:18:10          10612        371  0.7058824        \n"
          ]
        }
      ],
      "id": "E31XmjCvARKl"
    },
    {
      "cell_type": "code",
      "source": [
        "!kaggle competitions download -c aptos2019-blindness-detection"
      ],
      "metadata": {
        "id": "JJR-3zHyAVTP"
      },
      "execution_count": 20,
      "outputs": [],
      "id": "JJR-3zHyAVTP"
    },
    {
      "cell_type": "code",
      "source": [
        "!mkdir train"
      ],
      "metadata": {
        "id": "vEBR6eC-A_vo"
      },
      "execution_count": null,
      "outputs": [],
      "id": "vEBR6eC-A_vo"
    },
    {
      "cell_type": "code",
      "source": [
        "!unzip aptos2019-blindness-detection.zip -d train"
      ],
      "metadata": {
        "id": "XC8L9q7GEU5d"
      },
      "execution_count": 21,
      "outputs": [],
      "id": "XC8L9q7GEU5d"
    },
    {
      "cell_type": "markdown",
      "id": "1d779744",
      "metadata": {
        "papermill": {
          "duration": 0.021302,
          "end_time": "2021-09-04T02:13:39.390905",
          "exception": false,
          "start_time": "2021-09-04T02:13:39.369603",
          "status": "completed"
        },
        "tags": [],
        "id": "1d779744"
      },
      "source": [
        "### What is Diabetic Retinopathy?\n",
        "Diabetic Retinopathy is a condition that can cause Vision loss and Blindness in the people who have Diabetes. It affects the blood vessels in the Retina. It is one of the leading cause of Blindness across the world. Diabetic retinopathy may not have any symptoms at first, but finding it early can help you take steps to protect your vision. \n",
        "### Problem Statement :\n",
        "The problem is to perform Image Classification. Given an image (fundus photographs), You have to predict which class does the given image belongs to. The Classes to predict are :\n",
        "*  0 - Normal <br>\n",
        "*  1 - Mild <br>\n",
        "*  2 - Moderate <br>\n",
        "*  3 - Severe <br>\n",
        "*  4 - Proliferative <br>"
      ]
    },
    {
      "cell_type": "markdown",
      "id": "aa9895a3",
      "metadata": {
        "papermill": {
          "duration": 0.019782,
          "end_time": "2021-09-04T02:13:39.470214",
          "exception": false,
          "start_time": "2021-09-04T02:13:39.450432",
          "status": "completed"
        },
        "tags": [],
        "id": "aa9895a3"
      },
      "source": [
        "## Import Libraries"
      ]
    },
    {
      "cell_type": "code",
      "execution_count": 1,
      "id": "0a7b2b68",
      "metadata": {
        "execution": {
          "iopub.execute_input": "2021-09-04T02:13:39.515124Z",
          "iopub.status.busy": "2021-09-04T02:13:39.513557Z",
          "iopub.status.idle": "2021-09-04T02:13:40.801305Z",
          "shell.execute_reply": "2021-09-04T02:13:40.800719Z",
          "shell.execute_reply.started": "2021-09-04T02:01:52.957294Z"
        },
        "papermill": {
          "duration": 1.311316,
          "end_time": "2021-09-04T02:13:40.801461",
          "exception": false,
          "start_time": "2021-09-04T02:13:39.490145",
          "status": "completed"
        },
        "tags": [],
        "id": "0a7b2b68"
      },
      "outputs": [],
      "source": [
        "import pandas as pd #For reading csv files.\n",
        "import numpy as np \n",
        "import matplotlib.pyplot as plt #For plotting.\n",
        "\n",
        "import PIL.Image as Image #For working with image files.\n",
        "\n",
        "#Importing torch\n",
        "import torch\n",
        "import torch.nn as nn\n",
        "import torch.nn.functional as F\n",
        "\n",
        "from torch.utils.data import Dataset,DataLoader #For working with data.\n",
        "\n",
        "from torchvision import models,transforms #For pretrained models,image transformations."
      ]
    },
    {
      "cell_type": "code",
      "execution_count": null,
      "id": "3fc0f3af",
      "metadata": {
        "execution": {
          "iopub.execute_input": "2021-09-04T02:13:40.884826Z",
          "iopub.status.busy": "2021-09-04T02:13:40.884195Z",
          "iopub.status.idle": "2021-09-04T02:13:40.888340Z",
          "shell.execute_reply": "2021-09-04T02:13:40.888767Z",
          "shell.execute_reply.started": "2021-09-04T02:01:54.803487Z"
        },
        "papermill": {
          "duration": 0.067263,
          "end_time": "2021-09-04T02:13:40.888911",
          "exception": false,
          "start_time": "2021-09-04T02:13:40.821648",
          "status": "completed"
        },
        "tags": [],
        "id": "3fc0f3af",
        "outputId": "137ee3b8-212f-4c43-dbf9-58e4723a9664"
      },
      "outputs": [
        {
          "name": "stdout",
          "output_type": "stream",
          "text": [
            "cuda\n"
          ]
        }
      ],
      "source": [
        "device = torch.device('cuda' if torch.cuda.is_available() else 'cpu') #Use GPU if it's available or else use CPU.\n",
        "print(device) #Prints the device we're using."
      ]
    },
    {
      "cell_type": "markdown",
      "id": "46abc878",
      "metadata": {
        "papermill": {
          "duration": 0.020764,
          "end_time": "2021-09-04T02:13:40.930041",
          "exception": false,
          "start_time": "2021-09-04T02:13:40.909277",
          "status": "completed"
        },
        "tags": [],
        "id": "46abc878"
      },
      "source": [
        "## Exploratory Data Analysis"
      ]
    },
    {
      "cell_type": "code",
      "execution_count": null,
      "id": "c92fbff9",
      "metadata": {
        "execution": {
          "iopub.execute_input": "2021-09-04T02:13:41.054792Z",
          "iopub.status.busy": "2021-09-04T02:13:41.054232Z",
          "iopub.status.idle": "2021-09-04T02:13:41.076421Z",
          "shell.execute_reply": "2021-09-04T02:13:41.076013Z",
          "shell.execute_reply.started": "2021-09-04T02:01:58.014118Z"
        },
        "papermill": {
          "duration": 0.047526,
          "end_time": "2021-09-04T02:13:41.076528",
          "exception": false,
          "start_time": "2021-09-04T02:13:41.029002",
          "status": "completed"
        },
        "tags": [],
        "id": "c92fbff9",
        "outputId": "0679d2c8-ec43-4bf9-8a0b-97c3543539d0"
      },
      "outputs": [
        {
          "name": "stdout",
          "output_type": "stream",
          "text": [
            "No.of.training_samples: 3662\n",
            "No.of.testing_samples: 1928\n"
          ]
        }
      ],
      "source": [
        "path='/content/train/trainset/'\n",
        "\n",
        "train_df = pd.read_csv(f\"{path}train.csv\")\n",
        "print(f'No.of.training_samples: {len(train_df)}')\n",
        "\n",
        "test_df = pd.read_csv(f'{path}test.csv')\n",
        "print(f'No.of.testing_samples: {len(test_df)}')"
      ]
    },
    {
      "cell_type": "code",
      "execution_count": null,
      "id": "cd6d08c9",
      "metadata": {
        "execution": {
          "iopub.execute_input": "2021-09-04T02:13:41.126123Z",
          "iopub.status.busy": "2021-09-04T02:13:41.125540Z",
          "iopub.status.idle": "2021-09-04T02:13:41.272032Z",
          "shell.execute_reply": "2021-09-04T02:13:41.272443Z",
          "shell.execute_reply.started": "2021-09-04T02:02:00.386458Z"
        },
        "papermill": {
          "duration": 0.175472,
          "end_time": "2021-09-04T02:13:41.272568",
          "exception": false,
          "start_time": "2021-09-04T02:13:41.097096",
          "status": "completed"
        },
        "tags": [],
        "id": "cd6d08c9",
        "outputId": "27f02e9a-c095-4d03-adcf-dfe4a8248c20"
      },
      "outputs": [
        {
          "data": {
            "image/png": "[encoded data removed]",
            "text/plain": [
              "<Figure size 432x288 with 1 Axes>"
            ]
          },
          "metadata": {
            "needs_background": "light"
          },
          "output_type": "display_data"
        }
      ],
      "source": [
        "#Histogram of label counts.\n",
        "train_df.diagnosis.hist()\n",
        "plt.xticks([0,1,2,3,4])\n",
        "plt.grid(False)\n",
        "plt.show() "
      ]
    },
    {
      "cell_type": "markdown",
      "source": [
        "Since the classes are imbalanced so we need to calculate weights for each class that can be used for calculating loss"
      ],
      "metadata": {
        "id": "JXAnp5mdpQSH"
      },
      "id": "JXAnp5mdpQSH"
    },
    {
      "cell_type": "code",
      "execution_count": null,
      "id": "abcfa669",
      "metadata": {
        "execution": {
          "iopub.execute_input": "2021-09-04T02:13:41.344081Z",
          "iopub.status.busy": "2021-09-04T02:13:41.343395Z",
          "iopub.status.idle": "2021-09-04T02:13:46.236018Z",
          "shell.execute_reply": "2021-09-04T02:13:46.236565Z",
          "shell.execute_reply.started": "2021-09-04T02:02:03.769664Z"
        },
        "papermill": {
          "duration": 4.935376,
          "end_time": "2021-09-04T02:13:46.236771",
          "exception": false,
          "start_time": "2021-09-04T02:13:41.301395",
          "status": "completed"
        },
        "tags": [],
        "id": "abcfa669",
        "outputId": "cdef572e-a9d2-4a3f-d46c-1f8cd3981fb0"
      },
      "outputs": [
        {
          "name": "stdout",
          "output_type": "stream",
          "text": [
            "tensor([0.4058, 1.9795, 0.7331, 3.7948, 2.4827], device='cuda:0')\n"
          ]
        }
      ],
      "source": [
        "from sklearn.utils import class_weight #For calculating weights for each class.\n",
        "class_weights = class_weight.compute_class_weight(class_weight='balanced',classes=np.array([0,1,2,3,4]),y=train_df['diagnosis'].values)\n",
        "class_weights = torch.tensor(class_weights,dtype=torch.float).to(device)\n",
        " \n",
        "print(class_weights) #Prints the calculated weights for the classes."
      ]
    },
    {
      "cell_type": "code",
      "execution_count": null,
      "id": "9ce1867d",
      "metadata": {
        "execution": {
          "iopub.execute_input": "2021-09-04T02:13:46.284977Z",
          "iopub.status.busy": "2021-09-04T02:13:46.284429Z",
          "iopub.status.idle": "2021-09-04T02:13:46.763141Z",
          "shell.execute_reply": "2021-09-04T02:13:46.763548Z",
          "shell.execute_reply.started": "2021-09-04T02:02:08.654538Z"
        },
        "papermill": {
          "duration": 0.504983,
          "end_time": "2021-09-04T02:13:46.763709",
          "exception": false,
          "start_time": "2021-09-04T02:13:46.258726",
          "status": "completed"
        },
        "tags": [],
        "id": "9ce1867d",
        "outputId": "2e0ea5de-78fb-43e2-c086-04b601bae413"
      },
      "outputs": [
        {
          "data": {
            "image/png": "[encoded data removed]",
            "text/plain": [
              "<Figure size 432x288 with 1 Axes>"
            ]
          },
          "metadata": {
            "needs_background": "light"
          },
          "output_type": "display_data"
        }
      ],
      "source": [
        "#For getting a random image from our training set.\n",
        "num = int(np.random.randint(0,len(train_df)-1,(1,))) #Picks a random number.\n",
        "sample_image = (f'{path}train_images/{train_df[\"id_code\"][num]}.png')#Image file.\n",
        "sample_image = Image.open(sample_image) \n",
        "plt.imshow(sample_image)\n",
        "plt.axis('off')\n",
        "plt.title(f'Class: {train_df[\"diagnosis\"][num]}') #Class of the random image.\n",
        "plt.show()"
      ]
    },
    {
      "cell_type": "markdown",
      "id": "78da2067",
      "metadata": {
        "papermill": {
          "duration": 0.022648,
          "end_time": "2021-09-04T02:13:46.809393",
          "exception": false,
          "start_time": "2021-09-04T02:13:46.786745",
          "status": "completed"
        },
        "tags": [],
        "id": "78da2067"
      },
      "source": [
        "## Dataloader"
      ]
    },
    {
      "cell_type": "code",
      "execution_count": null,
      "id": "43396382",
      "metadata": {
        "execution": {
          "iopub.execute_input": "2021-09-04T02:13:46.863321Z",
          "iopub.status.busy": "2021-09-04T02:13:46.862551Z",
          "iopub.status.idle": "2021-09-04T02:13:46.865222Z",
          "shell.execute_reply": "2021-09-04T02:13:46.864822Z",
          "shell.execute_reply.started": "2021-09-04T02:02:08.995530Z"
        },
        "papermill": {
          "duration": 0.03304,
          "end_time": "2021-09-04T02:13:46.865331",
          "exception": false,
          "start_time": "2021-09-04T02:13:46.832291",
          "status": "completed"
        },
        "tags": [],
        "id": "43396382"
      },
      "outputs": [],
      "source": [
        "class dataset(Dataset): # Inherits from the Dataset class.\n",
        "    '''\n",
        "    dataset class overloads the __init__, __len__, __getitem__ methods of the Dataset class. \n",
        "    \n",
        "    Attributes :\n",
        "        df:  DataFrame object for the csv file.\n",
        "        data_path: Location of the dataset.\n",
        "        image_transform: Transformations to apply to the image.\n",
        "        train: A boolean indicating whether it is a training_set or not.\n",
        "    '''\n",
        "    \n",
        "    def __init__(self,df,data_path,image_transform=None,train=True): # Constructor.\n",
        "        super(Dataset,self).__init__() #Calls the constructor of the Dataset class.\n",
        "        self.df = df\n",
        "        self.data_path = data_path\n",
        "        self.image_transform = image_transform\n",
        "        self.train = train\n",
        "        \n",
        "    def __len__(self):\n",
        "        return len(self.df) #Returns the number of samples in the dataset.\n",
        "    \n",
        "    def __getitem__(self,index):\n",
        "        image_id = self.df['id_code'][index]\n",
        "        image = Image.open(f'{self.data_path}/{image_id}.png') #Image.\n",
        "        if self.image_transform :\n",
        "            image = self.image_transform(image) #Applies transformation to the image.\n",
        "        \n",
        "        if self.train :\n",
        "            label = self.df['diagnosis'][index] #Label.\n",
        "            return image,label #If train == True, return image & label.\n",
        "        \n",
        "        else:\n",
        "            return image\n",
        "            "
      ]
    },
    {
      "cell_type": "code",
      "execution_count": null,
      "id": "50ea1cab",
      "metadata": {
        "execution": {
          "iopub.execute_input": "2021-09-04T02:13:46.917770Z",
          "iopub.status.busy": "2021-09-04T02:13:46.917181Z",
          "iopub.status.idle": "2021-09-04T02:13:46.922117Z",
          "shell.execute_reply": "2021-09-04T02:13:46.921564Z",
          "shell.execute_reply.started": "2021-09-04T02:02:16.017178Z"
        },
        "papermill": {
          "duration": 0.033799,
          "end_time": "2021-09-04T02:13:46.922226",
          "exception": false,
          "start_time": "2021-09-04T02:13:46.888427",
          "status": "completed"
        },
        "tags": [],
        "id": "50ea1cab"
      },
      "outputs": [],
      "source": [
        "image_transform = transforms.Compose([transforms.Resize([512,512]),\n",
        "                                      transforms.ToTensor(),\n",
        "                                      transforms.Normalize((0.485, 0.456, 0.406), (0.229, 0.224, 0.225))]) #Transformations to apply to the image.\n",
        "data_set = dataset(train_df,f'{path}train_images',image_transform=image_transform)\n",
        "\n",
        "#Split the data_set so that valid_set contains 0.1 samples of the data_set. \n",
        "train_set,valid_set = torch.utils.data.random_split(data_set,[3302,360])"
      ]
    },
    {
      "cell_type": "code",
      "execution_count": null,
      "id": "af4c8c92",
      "metadata": {
        "execution": {
          "iopub.execute_input": "2021-09-04T02:13:46.972197Z",
          "iopub.status.busy": "2021-09-04T02:13:46.971461Z",
          "iopub.status.idle": "2021-09-04T02:13:46.974230Z",
          "shell.execute_reply": "2021-09-04T02:13:46.973814Z",
          "shell.execute_reply.started": "2021-09-04T02:02:18.146459Z"
        },
        "papermill": {
          "duration": 0.029071,
          "end_time": "2021-09-04T02:13:46.974335",
          "exception": false,
          "start_time": "2021-09-04T02:13:46.945264",
          "status": "completed"
        },
        "tags": [],
        "id": "af4c8c92"
      },
      "outputs": [],
      "source": [
        "train_dataloader = DataLoader(train_set,batch_size=32,shuffle=True) #DataLoader for train_set.\n",
        "valid_dataloader = DataLoader(valid_set,batch_size=32,shuffle=False) #DataLoader for validation_set."
      ]
    },
    {
      "cell_type": "markdown",
      "id": "8b889e66",
      "metadata": {
        "papermill": {
          "duration": 0.022506,
          "end_time": "2021-09-04T02:13:47.020219",
          "exception": false,
          "start_time": "2021-09-04T02:13:46.997713",
          "status": "completed"
        },
        "tags": [],
        "id": "8b889e66"
      },
      "source": [
        "## Build the Model\n",
        "Resnet34 is used as pretrained network"
      ]
    },
    {
      "cell_type": "code",
      "execution_count": null,
      "id": "22d0a3c9",
      "metadata": {
        "execution": {
          "iopub.execute_input": "2021-09-04T02:13:47.074643Z",
          "iopub.status.busy": "2021-09-04T02:13:47.074114Z",
          "iopub.status.idle": "2021-09-04T02:13:50.943872Z",
          "shell.execute_reply": "2021-09-04T02:13:50.943218Z",
          "shell.execute_reply.started": "2021-09-04T02:02:20.832365Z"
        },
        "papermill": {
          "duration": 3.90046,
          "end_time": "2021-09-04T02:13:50.944035",
          "exception": false,
          "start_time": "2021-09-04T02:13:47.043575",
          "status": "completed"
        },
        "tags": [],
        "colab": {
          "referenced_widgets": [
            "6a6e19ab9dfe498fa9b97f4dfbf025a9"
          ]
        },
        "id": "22d0a3c9",
        "outputId": "59ff6551-b244-4998-bc64-9800068c81c8"
      },
      "outputs": [
        {
          "name": "stderr",
          "output_type": "stream",
          "text": [
            "Downloading: \"https://download.pytorch.org/models/resnet34-333f7ec4.pth\" to /root/.cache/torch/hub/checkpoints/resnet34-333f7ec4.pth\n"
          ]
        },
        {
          "data": {
            "application/vnd.jupyter.widget-view+json": {
              "model_id": "6a6e19ab9dfe498fa9b97f4dfbf025a9",
              "version_major": 2,
              "version_minor": 0
            },
            "text/plain": [
              "  0%|          | 0.00/83.3M [00:00<?, ?B/s]"
            ]
          },
          "metadata": {},
          "output_type": "display_data"
        }
      ],
      "source": [
        "#Since we've less data, we'll use Transfer learning.\n",
        "model = models.resnet34(pretrained=True) \n",
        "\n",
        "#Replace the Final layer of pretrained resnet34 with 4 new layers.\n",
        "model.fc = nn.Sequential(nn.Linear(512,256),\n",
        "                         nn.ReLU(inplace=True),\n",
        "                         nn.Linear(256,128),\n",
        "                         nn.ReLU(inplace=True),\n",
        "                         nn.Linear(128,64),\n",
        "                         nn.ReLU(inplace=True),\n",
        "                         nn.Linear(64,5),    \n",
        "                    )"
      ]
    },
    {
      "cell_type": "code",
      "execution_count": null,
      "id": "d4fa2b65",
      "metadata": {
        "execution": {
          "iopub.execute_input": "2021-09-04T02:13:51.001196Z",
          "iopub.status.busy": "2021-09-04T02:13:51.000694Z",
          "iopub.status.idle": "2021-09-04T02:13:51.036520Z",
          "shell.execute_reply": "2021-09-04T02:13:51.036917Z",
          "shell.execute_reply.started": "2021-09-04T02:02:27.050636Z"
        },
        "papermill": {
          "duration": 0.063222,
          "end_time": "2021-09-04T02:13:51.037056",
          "exception": false,
          "start_time": "2021-09-04T02:13:50.973834",
          "status": "completed"
        },
        "tags": [],
        "id": "d4fa2b65"
      },
      "outputs": [],
      "source": [
        "model = model.to(device) #Moves the model to the device."
      ]
    },
    {
      "cell_type": "markdown",
      "id": "dbca6f2e",
      "metadata": {
        "papermill": {
          "duration": 0.0234,
          "end_time": "2021-09-04T02:13:51.084408",
          "exception": false,
          "start_time": "2021-09-04T02:13:51.061008",
          "status": "completed"
        },
        "tags": [],
        "id": "dbca6f2e"
      },
      "source": [
        "## Create functions for Training & Validation"
      ]
    },
    {
      "cell_type": "code",
      "execution_count": null,
      "id": "8d16e959",
      "metadata": {
        "execution": {
          "iopub.execute_input": "2021-09-04T02:13:51.140016Z",
          "iopub.status.busy": "2021-09-04T02:13:51.139192Z",
          "iopub.status.idle": "2021-09-04T02:13:51.141861Z",
          "shell.execute_reply": "2021-09-04T02:13:51.141434Z",
          "shell.execute_reply.started": "2021-09-04T02:02:29.502396Z"
        },
        "papermill": {
          "duration": 0.0336,
          "end_time": "2021-09-04T02:13:51.141971",
          "exception": false,
          "start_time": "2021-09-04T02:13:51.108371",
          "status": "completed"
        },
        "tags": [],
        "id": "8d16e959"
      },
      "outputs": [],
      "source": [
        "def train(dataloader,model,loss_fn,optimizer):\n",
        "    '''\n",
        "    train function updates the weights of the model based on the\n",
        "    loss using the optimizer in order to get a lower loss.\n",
        "    \n",
        "    Args :\n",
        "         dataloader: Iterator for the batches in the data_set.\n",
        "         model: Given an input produces an output by multiplying the input with the model weights.\n",
        "         loss_fn: Calculates the discrepancy between the label & the model's predictions.\n",
        "         optimizer: Updates the model weights.\n",
        "         \n",
        "    Returns :\n",
        "         Average loss per batch which is calculated by dividing the losses for all the batches\n",
        "         with the number of batches.\n",
        "    '''\n",
        "\n",
        "    model.train() #Sets the model for training.\n",
        "    \n",
        "    total = 0\n",
        "    correct = 0\n",
        "    running_loss = 0\n",
        "    \n",
        "    for batch,(x,y) in enumerate(dataloader): #Iterates through the batches.\n",
        "        \n",
        "        output = model(x.to(device)) #model's predictions.\n",
        "        loss   = loss_fn(output,y.to(device)) #loss calculation.\n",
        "       \n",
        "        running_loss += loss.item()\n",
        "        \n",
        "        total        += y.size(0)\n",
        "        predictions   = output.argmax(dim=1).cpu().detach() #Index for the highest score for all the samples in the batch.\n",
        "        correct      += (predictions == y.cpu().detach()).sum().item() #No.of.cases where model's predictions are equal to the label.\n",
        "        \n",
        "        optimizer.zero_grad() #Gradient values are set to zero.\n",
        "        loss.backward() #Calculates the gradients.\n",
        "        optimizer.step() #Updates the model weights.\n",
        "             \n",
        "    \n",
        "    avg_loss = running_loss/len(dataloader) # Average loss for a single batch\n",
        "    \n",
        "    print(f'\\nTraining Loss = {avg_loss:.6f}',end='\\t')\n",
        "    print(f'Accuracy on Training set = {100*(correct/total):.6f}% [{correct}/{total}]') #Prints the Accuracy.\n",
        "    \n",
        "    return avg_loss"
      ]
    },
    {
      "cell_type": "code",
      "execution_count": null,
      "id": "ab7ad80b",
      "metadata": {
        "execution": {
          "iopub.execute_input": "2021-09-04T02:13:51.196688Z",
          "iopub.status.busy": "2021-09-04T02:13:51.195918Z",
          "iopub.status.idle": "2021-09-04T02:13:51.198574Z",
          "shell.execute_reply": "2021-09-04T02:13:51.198170Z",
          "shell.execute_reply.started": "2021-09-04T02:02:33.916484Z"
        },
        "papermill": {
          "duration": 0.033289,
          "end_time": "2021-09-04T02:13:51.198693",
          "exception": false,
          "start_time": "2021-09-04T02:13:51.165404",
          "status": "completed"
        },
        "tags": [],
        "id": "ab7ad80b"
      },
      "outputs": [],
      "source": [
        "def validate(dataloader,model,loss_fn):\n",
        "    '''\n",
        "    validate function calculates the average loss per batch and the accuracy of the model's predictions.\n",
        "    \n",
        "    Args :\n",
        "         dataloader: Iterator for the batches in the data_set.\n",
        "         model: Given an input produces an output by multiplying the input with the model weights.\n",
        "         loss_fn: Calculates the discrepancy between the label & the model's predictions.\n",
        "    \n",
        "    Returns :\n",
        "         Average loss per batch which is calculated by dividing the losses for all the batches\n",
        "         with the number of batches.\n",
        "    '''\n",
        "    \n",
        "    model.eval() #Sets the model for evaluation.\n",
        "    \n",
        "    total = 0\n",
        "    correct = 0\n",
        "    running_loss = 0\n",
        "    \n",
        "    with torch.no_grad(): #No need to calculate the gradients.\n",
        "        \n",
        "        for x,y in dataloader:\n",
        "            \n",
        "            output        = model(x.to(device)) #model's output.\n",
        "            loss          = loss_fn(output,y.to(device)).item() #loss calculation.\n",
        "            running_loss += loss\n",
        "            \n",
        "            total        += y.size(0)\n",
        "            predictions   = output.argmax(dim=1).cpu().detach()\n",
        "            correct      += (predictions == y.cpu().detach()).sum().item()\n",
        "            \n",
        "    avg_loss = running_loss/len(dataloader) #Average loss per batch.      \n",
        "    \n",
        "    print(f'\\nValidation Loss = {avg_loss:.6f}',end='\\t')\n",
        "    print(f'Accuracy on Validation set = {100*(correct/total):.6f}% [{correct}/{total}]') #Prints the Accuracy.\n",
        "    \n",
        "    return avg_loss"
      ]
    },
    {
      "cell_type": "markdown",
      "id": "6470ee08",
      "metadata": {
        "papermill": {
          "duration": 0.02333,
          "end_time": "2021-09-04T02:13:51.245388",
          "exception": false,
          "start_time": "2021-09-04T02:13:51.222058",
          "status": "completed"
        },
        "tags": [],
        "id": "6470ee08"
      },
      "source": [
        "## Optimize the Model"
      ]
    },
    {
      "cell_type": "code",
      "execution_count": null,
      "id": "a7d3dbb2",
      "metadata": {
        "execution": {
          "iopub.execute_input": "2021-09-04T02:13:51.302065Z",
          "iopub.status.busy": "2021-09-04T02:13:51.301197Z",
          "iopub.status.idle": "2021-09-04T02:13:51.303851Z",
          "shell.execute_reply": "2021-09-04T02:13:51.303400Z",
          "shell.execute_reply.started": "2021-09-04T02:02:37.779660Z"
        },
        "papermill": {
          "duration": 0.034494,
          "end_time": "2021-09-04T02:13:51.303961",
          "exception": false,
          "start_time": "2021-09-04T02:13:51.269467",
          "status": "completed"
        },
        "tags": [],
        "id": "a7d3dbb2"
      },
      "outputs": [],
      "source": [
        "def optimize(train_dataloader,valid_dataloader,model,loss_fn,optimizer,nb_epochs):\n",
        "    '''\n",
        "    optimize function calls the train & validate functions for (nb_epochs) times.\n",
        "    \n",
        "    Args :\n",
        "        train_dataloader: DataLoader for the train_set.\n",
        "        valid_dataloader: DataLoader for the valid_set.\n",
        "        model: Given an input produces an output by multiplying the input with the model weights.\n",
        "        loss_fn: Calculates the discrepancy between the label & the model's predictions.\n",
        "        optimizer: Updates the model weights.\n",
        "        nb_epochs: Number of epochs.\n",
        "        \n",
        "    Returns :\n",
        "        Tuple of lists containing losses for all the epochs.\n",
        "    '''\n",
        "    #Lists to store losses for all the epochs.\n",
        "    train_losses = []\n",
        "    valid_losses = []\n",
        "\n",
        "    for epoch in range(nb_epochs):\n",
        "        print(f'\\nEpoch {epoch+1}/{nb_epochs}')\n",
        "        print('-------------------------------')\n",
        "        train_loss = train(train_dataloader,model,loss_fn,optimizer) #Calls the train function.\n",
        "        train_losses.append(train_loss)\n",
        "        valid_loss = validate(valid_dataloader,model,loss_fn) #Calls the validate function.\n",
        "        valid_losses.append(valid_loss)\n",
        "    \n",
        "    print('\\nTraining has completed!')\n",
        "    \n",
        "    return train_losses,valid_losses"
      ]
    },
    {
      "cell_type": "code",
      "execution_count": null,
      "id": "76bd7555",
      "metadata": {
        "execution": {
          "iopub.execute_input": "2021-09-04T02:13:51.359522Z",
          "iopub.status.busy": "2021-09-04T02:13:51.358944Z",
          "iopub.status.idle": "2021-09-04T10:14:53.264272Z",
          "shell.execute_reply": "2021-09-04T10:14:53.264730Z"
        },
        "papermill": {
          "duration": 28861.937159,
          "end_time": "2021-09-04T10:14:53.264907",
          "exception": false,
          "start_time": "2021-09-04T02:13:51.327748",
          "status": "completed"
        },
        "tags": [],
        "id": "76bd7555",
        "outputId": "110e1709-a808-4be8-92be-66537b1870b2"
      },
      "outputs": [
        {
          "name": "stdout",
          "output_type": "stream",
          "text": [
            "\n",
            "Epoch 1/60\n",
            "-------------------------------\n",
            "\n",
            "Training Loss = 1.611295\tAccuracy on Training set = 27.559055% [910/3302]\n",
            "\n",
            "Validation Loss = 1.608758\tAccuracy on Validation set = 24.444444% [88/360]\n",
            "\n",
            "Epoch 2/60\n",
            "-------------------------------\n",
            "\n",
            "Training Loss = 1.608016\tAccuracy on Training set = 27.468201% [907/3302]\n",
            "\n",
            "Validation Loss = 1.605749\tAccuracy on Validation set = 24.166667% [87/360]\n",
            "\n",
            "Epoch 3/60\n",
            "-------------------------------\n",
            "\n",
            "Training Loss = 1.604892\tAccuracy on Training set = 27.498486% [908/3302]\n",
            "\n",
            "Validation Loss = 1.602636\tAccuracy on Validation set = 24.444444% [88/360]\n",
            "\n",
            "Epoch 4/60\n",
            "-------------------------------\n",
            "\n",
            "Training Loss = 1.602482\tAccuracy on Training set = 27.437916% [906/3302]\n",
            "\n",
            "Validation Loss = 1.598668\tAccuracy on Validation set = 24.166667% [87/360]\n",
            "\n",
            "Epoch 5/60\n",
            "-------------------------------\n",
            "\n",
            "Training Loss = 1.598887\tAccuracy on Training set = 27.286493% [901/3302]\n",
            "\n",
            "Validation Loss = 1.595137\tAccuracy on Validation set = 24.444444% [88/360]\n",
            "\n",
            "Epoch 6/60\n",
            "-------------------------------\n",
            "\n",
            "Training Loss = 1.595765\tAccuracy on Training set = 27.528770% [909/3302]\n",
            "\n",
            "Validation Loss = 1.591097\tAccuracy on Validation set = 24.166667% [87/360]\n",
            "\n",
            "Epoch 7/60\n",
            "-------------------------------\n",
            "\n",
            "Training Loss = 1.591936\tAccuracy on Training set = 27.225924% [899/3302]\n",
            "\n",
            "Validation Loss = 1.585791\tAccuracy on Validation set = 23.888889% [86/360]\n",
            "\n",
            "Epoch 8/60\n",
            "-------------------------------\n",
            "\n",
            "Training Loss = 1.587968\tAccuracy on Training set = 27.468201% [907/3302]\n",
            "\n",
            "Validation Loss = 1.580790\tAccuracy on Validation set = 23.611111% [85/360]\n",
            "\n",
            "Epoch 9/60\n",
            "-------------------------------\n",
            "\n",
            "Training Loss = 1.583072\tAccuracy on Training set = 27.619624% [912/3302]\n",
            "\n",
            "Validation Loss = 1.574923\tAccuracy on Validation set = 23.333333% [84/360]\n",
            "\n",
            "Epoch 10/60\n",
            "-------------------------------\n",
            "\n",
            "Training Loss = 1.578078\tAccuracy on Training set = 28.921866% [955/3302]\n",
            "\n",
            "Validation Loss = 1.567930\tAccuracy on Validation set = 28.055556% [101/360]\n",
            "\n",
            "Epoch 11/60\n",
            "-------------------------------\n",
            "\n",
            "Training Loss = 1.571509\tAccuracy on Training set = 34.494246% [1139/3302]\n",
            "\n",
            "Validation Loss = 1.561691\tAccuracy on Validation set = 45.000000% [162/360]\n",
            "\n",
            "Epoch 12/60\n",
            "-------------------------------\n",
            "\n",
            "Training Loss = 1.565059\tAccuracy on Training set = 47.698365% [1575/3302]\n",
            "\n",
            "Validation Loss = 1.553280\tAccuracy on Validation set = 56.666667% [204/360]\n",
            "\n",
            "Epoch 13/60\n",
            "-------------------------------\n",
            "\n",
            "Training Loss = 1.557046\tAccuracy on Training set = 56.662629% [1871/3302]\n",
            "\n",
            "Validation Loss = 1.543310\tAccuracy on Validation set = 63.611111% [229/360]\n",
            "\n",
            "Epoch 14/60\n",
            "-------------------------------\n",
            "\n",
            "Training Loss = 1.547378\tAccuracy on Training set = 60.417929% [1995/3302]\n",
            "\n",
            "Validation Loss = 1.532094\tAccuracy on Validation set = 63.333333% [228/360]\n",
            "\n",
            "Epoch 15/60\n",
            "-------------------------------\n",
            "\n",
            "Training Loss = 1.536796\tAccuracy on Training set = 62.537856% [2065/3302]\n",
            "\n",
            "Validation Loss = 1.519088\tAccuracy on Validation set = 63.611111% [229/360]\n",
            "\n",
            "Epoch 16/60\n",
            "-------------------------------\n",
            "\n",
            "Training Loss = 1.525216\tAccuracy on Training set = 63.961236% [2112/3302]\n",
            "\n",
            "Validation Loss = 1.502442\tAccuracy on Validation set = 65.833333% [237/360]\n",
            "\n",
            "Epoch 17/60\n",
            "-------------------------------\n",
            "\n",
            "Training Loss = 1.509668\tAccuracy on Training set = 64.839491% [2141/3302]\n",
            "\n",
            "Validation Loss = 1.485245\tAccuracy on Validation set = 68.055556% [245/360]\n",
            "\n",
            "Epoch 18/60\n",
            "-------------------------------\n",
            "\n",
            "Training Loss = 1.493433\tAccuracy on Training set = 65.081769% [2149/3302]\n",
            "\n",
            "Validation Loss = 1.465999\tAccuracy on Validation set = 71.944444% [259/360]\n",
            "\n",
            "Epoch 19/60\n",
            "-------------------------------\n",
            "\n",
            "Training Loss = 1.474026\tAccuracy on Training set = 68.746214% [2270/3302]\n",
            "\n",
            "Validation Loss = 1.440566\tAccuracy on Validation set = 71.111111% [256/360]\n",
            "\n",
            "Epoch 20/60\n",
            "-------------------------------\n",
            "\n",
            "Training Loss = 1.450079\tAccuracy on Training set = 69.079346% [2281/3302]\n",
            "\n",
            "Validation Loss = 1.410390\tAccuracy on Validation set = 71.388889% [257/360]\n",
            "\n",
            "Epoch 21/60\n",
            "-------------------------------\n",
            "\n",
            "Training Loss = 1.428656\tAccuracy on Training set = 68.110236% [2249/3302]\n",
            "\n",
            "Validation Loss = 1.383998\tAccuracy on Validation set = 73.611111% [265/360]\n",
            "\n",
            "Epoch 22/60\n",
            "-------------------------------\n",
            "\n",
            "Training Loss = 1.395382\tAccuracy on Training set = 68.231375% [2253/3302]\n",
            "\n",
            "Validation Loss = 1.341788\tAccuracy on Validation set = 73.611111% [265/360]\n",
            "\n",
            "Epoch 23/60\n",
            "-------------------------------\n",
            "\n",
            "Training Loss = 1.363418\tAccuracy on Training set = 70.109025% [2315/3302]\n",
            "\n",
            "Validation Loss = 1.298780\tAccuracy on Validation set = 73.888889% [266/360]\n",
            "\n",
            "Epoch 24/60\n",
            "-------------------------------\n",
            "\n",
            "Training Loss = 1.325291\tAccuracy on Training set = 69.624470% [2299/3302]\n",
            "\n",
            "Validation Loss = 1.274342\tAccuracy on Validation set = 73.611111% [265/360]\n",
            "\n",
            "Epoch 25/60\n",
            "-------------------------------\n",
            "\n",
            "Training Loss = 1.288064\tAccuracy on Training set = 69.473047% [2294/3302]\n",
            "\n",
            "Validation Loss = 1.225466\tAccuracy on Validation set = 70.833333% [255/360]\n",
            "\n",
            "Epoch 26/60\n",
            "-------------------------------\n",
            "\n",
            "Training Loss = 1.253323\tAccuracy on Training set = 65.536039% [2164/3302]\n",
            "\n",
            "Validation Loss = 1.177133\tAccuracy on Validation set = 72.222222% [260/360]\n",
            "\n",
            "Epoch 27/60\n",
            "-------------------------------\n",
            "\n",
            "Training Loss = 1.214189\tAccuracy on Training set = 67.383404% [2225/3302]\n",
            "\n",
            "Validation Loss = 1.157050\tAccuracy on Validation set = 70.555556% [254/360]\n",
            "\n",
            "Epoch 28/60\n",
            "-------------------------------\n",
            "\n",
            "Training Loss = 1.173624\tAccuracy on Training set = 69.079346% [2281/3302]\n",
            "\n",
            "Validation Loss = 1.082517\tAccuracy on Validation set = 71.944444% [259/360]\n",
            "\n",
            "Epoch 29/60\n",
            "-------------------------------\n",
            "\n",
            "Training Loss = 1.137434\tAccuracy on Training set = 67.807389% [2239/3302]\n",
            "\n",
            "Validation Loss = 1.105639\tAccuracy on Validation set = 76.111111% [274/360]\n",
            "\n",
            "Epoch 30/60\n",
            "-------------------------------\n",
            "\n",
            "Training Loss = 1.104286\tAccuracy on Training set = 68.625076% [2266/3302]\n",
            "\n",
            "Validation Loss = 1.018688\tAccuracy on Validation set = 75.000000% [270/360]\n",
            "\n",
            "Epoch 31/60\n",
            "-------------------------------\n",
            "\n",
            "Training Loss = 1.070446\tAccuracy on Training set = 69.533616% [2296/3302]\n",
            "\n",
            "Validation Loss = 0.992047\tAccuracy on Validation set = 72.777778% [262/360]\n",
            "\n",
            "Epoch 32/60\n",
            "-------------------------------\n",
            "\n",
            "Training Loss = 1.033840\tAccuracy on Training set = 68.594791% [2265/3302]\n",
            "\n",
            "Validation Loss = 1.038085\tAccuracy on Validation set = 75.555556% [272/360]\n",
            "\n",
            "Epoch 33/60\n",
            "-------------------------------\n",
            "\n",
            "Training Loss = 0.997865\tAccuracy on Training set = 68.927922% [2276/3302]\n",
            "\n",
            "Validation Loss = 0.932233\tAccuracy on Validation set = 76.111111% [274/360]\n",
            "\n",
            "Epoch 34/60\n",
            "-------------------------------\n",
            "\n",
            "Training Loss = 0.974240\tAccuracy on Training set = 70.623864% [2332/3302]\n",
            "\n",
            "Validation Loss = 0.938392\tAccuracy on Validation set = 72.500000% [261/360]\n",
            "\n",
            "Epoch 35/60\n",
            "-------------------------------\n",
            "\n",
            "Training Loss = 0.946953\tAccuracy on Training set = 70.230164% [2319/3302]\n",
            "\n",
            "Validation Loss = 0.917516\tAccuracy on Validation set = 75.277778% [271/360]\n",
            "\n",
            "Epoch 36/60\n",
            "-------------------------------\n",
            "\n",
            "Training Loss = 0.929823\tAccuracy on Training set = 71.502120% [2361/3302]\n",
            "\n",
            "Validation Loss = 0.924835\tAccuracy on Validation set = 73.888889% [266/360]\n",
            "\n",
            "Epoch 37/60\n",
            "-------------------------------\n",
            "\n",
            "Training Loss = 0.905393\tAccuracy on Training set = 72.077529% [2380/3302]\n",
            "\n",
            "Validation Loss = 0.853015\tAccuracy on Validation set = 77.777778% [280/360]\n",
            "\n",
            "Epoch 38/60\n",
            "-------------------------------\n",
            "\n",
            "Training Loss = 0.889012\tAccuracy on Training set = 71.865536% [2373/3302]\n",
            "\n",
            "Validation Loss = 0.832017\tAccuracy on Validation set = 76.944444% [277/360]\n",
            "\n",
            "Epoch 39/60\n",
            "-------------------------------\n",
            "\n",
            "Training Loss = 0.863953\tAccuracy on Training set = 72.138098% [2382/3302]\n",
            "\n",
            "Validation Loss = 0.814105\tAccuracy on Validation set = 77.500000% [279/360]\n",
            "\n",
            "Epoch 40/60\n",
            "-------------------------------\n",
            "\n",
            "Training Loss = 0.867928\tAccuracy on Training set = 73.985463% [2443/3302]\n",
            "\n",
            "Validation Loss = 0.967326\tAccuracy on Validation set = 71.666667% [258/360]\n",
            "\n",
            "Epoch 41/60\n",
            "-------------------------------\n",
            "\n",
            "Training Loss = 0.841683\tAccuracy on Training set = 73.712901% [2434/3302]\n",
            "\n",
            "Validation Loss = 0.778937\tAccuracy on Validation set = 78.611111% [283/360]\n",
            "\n",
            "Epoch 42/60\n",
            "-------------------------------\n",
            "\n",
            "Training Loss = 0.819790\tAccuracy on Training set = 75.136281% [2481/3302]\n",
            "\n",
            "Validation Loss = 0.743215\tAccuracy on Validation set = 78.888889% [284/360]\n",
            "\n",
            "Epoch 43/60\n",
            "-------------------------------\n",
            "\n",
            "Training Loss = 0.812171\tAccuracy on Training set = 75.378558% [2489/3302]\n",
            "\n",
            "Validation Loss = 0.761611\tAccuracy on Validation set = 79.722222% [287/360]\n",
            "\n",
            "Epoch 44/60\n",
            "-------------------------------\n",
            "\n",
            "Training Loss = 0.797863\tAccuracy on Training set = 75.923683% [2507/3302]\n",
            "\n",
            "Validation Loss = 0.743085\tAccuracy on Validation set = 79.166667% [285/360]\n",
            "\n",
            "Epoch 45/60\n",
            "-------------------------------\n",
            "\n",
            "Training Loss = 0.772572\tAccuracy on Training set = 77.347062% [2554/3302]\n",
            "\n",
            "Validation Loss = 0.757150\tAccuracy on Validation set = 79.166667% [285/360]\n",
            "\n",
            "Epoch 46/60\n",
            "-------------------------------\n",
            "\n",
            "Training Loss = 0.770135\tAccuracy on Training set = 76.075106% [2512/3302]\n",
            "\n",
            "Validation Loss = 0.923256\tAccuracy on Validation set = 73.611111% [265/360]\n",
            "\n",
            "Epoch 47/60\n",
            "-------------------------------\n",
            "\n",
            "Training Loss = 0.757792\tAccuracy on Training set = 77.104785% [2546/3302]\n",
            "\n",
            "Validation Loss = 0.834041\tAccuracy on Validation set = 78.333333% [282/360]\n",
            "\n",
            "Epoch 48/60\n",
            "-------------------------------\n",
            "\n",
            "Training Loss = 0.727950\tAccuracy on Training set = 77.801333% [2569/3302]\n",
            "\n",
            "Validation Loss = 0.891728\tAccuracy on Validation set = 78.333333% [282/360]\n",
            "\n",
            "Epoch 49/60\n",
            "-------------------------------\n",
            "\n",
            "Training Loss = 0.706606\tAccuracy on Training set = 79.830406% [2636/3302]\n",
            "\n",
            "Validation Loss = 0.743941\tAccuracy on Validation set = 80.000000% [288/360]\n",
            "\n",
            "Epoch 50/60\n",
            "-------------------------------\n",
            "\n",
            "Training Loss = 0.698409\tAccuracy on Training set = 79.557844% [2627/3302]\n",
            "\n",
            "Validation Loss = 0.751460\tAccuracy on Validation set = 77.222222% [278/360]\n",
            "\n",
            "Epoch 51/60\n",
            "-------------------------------\n",
            "\n",
            "Training Loss = 0.683230\tAccuracy on Training set = 80.829800% [2669/3302]\n",
            "\n",
            "Validation Loss = 0.808577\tAccuracy on Validation set = 79.722222% [287/360]\n",
            "\n",
            "Epoch 52/60\n",
            "-------------------------------\n",
            "\n",
            "Training Loss = 0.665113\tAccuracy on Training set = 81.193216% [2681/3302]\n",
            "\n",
            "Validation Loss = 0.733019\tAccuracy on Validation set = 80.277778% [289/360]\n",
            "\n",
            "Epoch 53/60\n",
            "-------------------------------\n",
            "\n",
            "Training Loss = 0.644418\tAccuracy on Training set = 81.405209% [2688/3302]\n",
            "\n",
            "Validation Loss = 0.809830\tAccuracy on Validation set = 81.666667% [294/360]\n",
            "\n",
            "Epoch 54/60\n",
            "-------------------------------\n",
            "\n",
            "Training Loss = 0.631288\tAccuracy on Training set = 82.404603% [2721/3302]\n",
            "\n",
            "Validation Loss = 0.729745\tAccuracy on Validation set = 79.166667% [285/360]\n",
            "\n",
            "Epoch 55/60\n",
            "-------------------------------\n",
            "\n",
            "Training Loss = 0.611537\tAccuracy on Training set = 83.494852% [2757/3302]\n",
            "\n",
            "Validation Loss = 0.734344\tAccuracy on Validation set = 81.944444% [295/360]\n",
            "\n",
            "Epoch 56/60\n",
            "-------------------------------\n",
            "\n",
            "Training Loss = 0.584430\tAccuracy on Training set = 85.039370% [2808/3302]\n",
            "\n",
            "Validation Loss = 0.766672\tAccuracy on Validation set = 80.000000% [288/360]\n",
            "\n",
            "Epoch 57/60\n",
            "-------------------------------\n",
            "\n",
            "Training Loss = 0.577958\tAccuracy on Training set = 84.494246% [2790/3302]\n",
            "\n",
            "Validation Loss = 0.714242\tAccuracy on Validation set = 79.722222% [287/360]\n",
            "\n",
            "Epoch 58/60\n",
            "-------------------------------\n",
            "\n",
            "Training Loss = 0.543499\tAccuracy on Training set = 85.917626% [2837/3302]\n",
            "\n",
            "Validation Loss = 0.706559\tAccuracy on Validation set = 80.000000% [288/360]\n",
            "\n",
            "Epoch 59/60\n",
            "-------------------------------\n",
            "\n",
            "Training Loss = 0.537069\tAccuracy on Training set = 86.856451% [2868/3302]\n",
            "\n",
            "Validation Loss = 1.208684\tAccuracy on Validation set = 71.111111% [256/360]\n",
            "\n",
            "Epoch 60/60\n",
            "-------------------------------\n",
            "\n",
            "Training Loss = 0.512670\tAccuracy on Training set = 87.886130% [2902/3302]\n",
            "\n",
            "Validation Loss = 0.730906\tAccuracy on Validation set = 79.722222% [287/360]\n",
            "\n",
            "Training has completed!\n"
          ]
        }
      ],
      "source": [
        "loss_fn   = nn.CrossEntropyLoss(weight=class_weights) #CrossEntropyLoss with class_weights.\n",
        "optimizer = torch.optim.SGD(model.parameters(),lr=0.001) \n",
        "nb_epochs = 60\n",
        "#Call the optimize function.\n",
        "train_losses, valid_losses = optimize(train_dataloader,valid_dataloader,model,loss_fn,optimizer,nb_epochs)"
      ]
    },
    {
      "cell_type": "code",
      "execution_count": null,
      "id": "d9edb1d5",
      "metadata": {
        "execution": {
          "iopub.execute_input": "2021-09-04T10:14:53.402306Z",
          "iopub.status.busy": "2021-09-04T10:14:53.399628Z",
          "iopub.status.idle": "2021-09-04T10:14:53.526642Z",
          "shell.execute_reply": "2021-09-04T10:14:53.526222Z"
        },
        "papermill": {
          "duration": 0.207932,
          "end_time": "2021-09-04T10:14:53.526774",
          "exception": false,
          "start_time": "2021-09-04T10:14:53.318842",
          "status": "completed"
        },
        "tags": [],
        "id": "d9edb1d5",
        "outputId": "2a3836dc-2574-4b69-c62f-f964d09ece87"
      },
      "outputs": [
        {
          "data": {
            "image/png": "[encoded data removed]",
            "text/plain": [
              "<Figure size 432x288 with 1 Axes>"
            ]
          },
          "metadata": {
            "needs_background": "light"
          },
          "output_type": "display_data"
        }
      ],
      "source": [
        "#Plot the graph of train_losses & valid_losses against nb_epochs.\n",
        "epochs = range(nb_epochs)\n",
        "plt.plot(epochs, train_losses, 'g', label='Training loss')\n",
        "plt.plot(epochs, valid_losses, 'b', label='validation loss')\n",
        "plt.title('Training and Validation loss')\n",
        "plt.xlabel('Epochs')\n",
        "plt.ylabel('Loss')\n",
        "plt.legend()\n",
        "plt.show()"
      ]
    },
    {
      "cell_type": "code",
      "execution_count": null,
      "id": "3d1d2989",
      "metadata": {
        "execution": {
          "iopub.execute_input": "2021-09-04T10:14:53.656462Z",
          "iopub.status.busy": "2021-09-04T10:14:53.651155Z",
          "iopub.status.idle": "2021-09-04T10:14:53.804102Z",
          "shell.execute_reply": "2021-09-04T10:14:53.803546Z",
          "shell.execute_reply.started": "2021-09-03T16:57:45.045033Z"
        },
        "papermill": {
          "duration": 0.222031,
          "end_time": "2021-09-04T10:14:53.804229",
          "exception": false,
          "start_time": "2021-09-04T10:14:53.582198",
          "status": "completed"
        },
        "tags": [],
        "id": "3d1d2989"
      },
      "outputs": [],
      "source": [
        "#Save the model\n",
        "torch.save(model,'CNN_for_DR.pth')"
      ]
    },
    {
      "cell_type": "markdown",
      "id": "aae70406",
      "metadata": {
        "papermill": {
          "duration": 0.05519,
          "end_time": "2021-09-04T10:14:53.914457",
          "exception": false,
          "start_time": "2021-09-04T10:14:53.859267",
          "status": "completed"
        },
        "tags": [],
        "id": "aae70406"
      },
      "source": [
        "## Testing the model"
      ]
    },
    {
      "cell_type": "code",
      "execution_count": null,
      "id": "d4f86cf3",
      "metadata": {
        "execution": {
          "iopub.execute_input": "2021-09-04T10:14:54.104244Z",
          "iopub.status.busy": "2021-09-04T10:14:54.103390Z",
          "iopub.status.idle": "2021-09-04T10:14:54.105550Z",
          "shell.execute_reply": "2021-09-04T10:14:54.105985Z",
          "shell.execute_reply.started": "2021-08-12T14:32:02.43183Z"
        },
        "papermill": {
          "duration": 0.061995,
          "end_time": "2021-09-04T10:14:54.106120",
          "exception": false,
          "start_time": "2021-09-04T10:14:54.044125",
          "status": "completed"
        },
        "tags": [],
        "id": "d4f86cf3"
      },
      "outputs": [],
      "source": [
        "test_set = dataset(test_df,f'{path}test_images',image_transform = image_transform,train = False )\n",
        "\n",
        "test_dataloader = DataLoader(test_set, batch_size=32, shuffle=False) #DataLoader for test_set."
      ]
    },
    {
      "cell_type": "code",
      "execution_count": null,
      "id": "6695e210",
      "metadata": {
        "execution": {
          "iopub.execute_input": "2021-09-04T10:14:54.222733Z",
          "iopub.status.busy": "2021-09-04T10:14:54.221891Z",
          "iopub.status.idle": "2021-09-04T10:14:54.224445Z",
          "shell.execute_reply": "2021-09-04T10:14:54.224016Z",
          "shell.execute_reply.started": "2021-08-13T16:17:31.200665Z"
        },
        "papermill": {
          "duration": 0.062994,
          "end_time": "2021-09-04T10:14:54.224552",
          "exception": false,
          "start_time": "2021-09-04T10:14:54.161558",
          "status": "completed"
        },
        "tags": [],
        "id": "6695e210"
      },
      "outputs": [],
      "source": [
        "def test(dataloader,model):\n",
        "    '''\n",
        "    test function predicts the labels given an image batches.\n",
        "    \n",
        "    Args :\n",
        "         dataloader: DataLoader for the test_set.\n",
        "         model: Given an input produces an output by multiplying the input with the model weights.\n",
        "         \n",
        "    Returns :\n",
        "         List of predicted labels.\n",
        "    '''\n",
        "    \n",
        "    model.eval() #Sets the model for evaluation.\n",
        "    \n",
        "    labels = [] #List to store the predicted labels.\n",
        "    \n",
        "    with torch.no_grad():\n",
        "        \n",
        "        for batch,x in enumerate(dataloader):\n",
        "            \n",
        "            output = model(x.to(device))\n",
        "            \n",
        "            predictions = output.argmax(dim=1).cpu().detach().tolist() #Predicted labels for an image batch.\n",
        "            labels.extend(predictions)\n",
        "                \n",
        "    print('Testing has completed')\n",
        "            \n",
        "    return labels                "
      ]
    },
    {
      "cell_type": "code",
      "execution_count": null,
      "id": "396ba7ea",
      "metadata": {
        "execution": {
          "iopub.execute_input": "2021-09-04T10:14:54.339024Z",
          "iopub.status.busy": "2021-09-04T10:14:54.338383Z",
          "iopub.status.idle": "2021-09-04T10:17:24.253168Z",
          "shell.execute_reply": "2021-09-04T10:17:24.253878Z",
          "shell.execute_reply.started": "2021-08-12T14:32:06.861158Z"
        },
        "papermill": {
          "duration": 149.974705,
          "end_time": "2021-09-04T10:17:24.254094",
          "exception": false,
          "start_time": "2021-09-04T10:14:54.279389",
          "status": "completed"
        },
        "tags": [],
        "id": "396ba7ea",
        "outputId": "9eccc7ec-5b6b-46f3-c921-08df2020ac30"
      },
      "outputs": [
        {
          "name": "stdout",
          "output_type": "stream",
          "text": [
            "Testing has completed\n"
          ]
        }
      ],
      "source": [
        "labels = test(test_dataloader,model) #Calls the test function."
      ]
    }
  ],
  "metadata": {
    "kernelspec": {
      "display_name": "Python 3",
      "language": "python",
      "name": "python3"
    },
    "language_info": {
      "codemirror_mode": {
        "name": "ipython",
        "version": 3
      },
      "file_extension": ".py",
      "mimetype": "text/x-python",
      "name": "python",
      "nbconvert_exporter": "python",
      "pygments_lexer": "ipython3",
      "version": "3.7.10"
    },
    "papermill": {
      "default_parameters": {},
      "duration": 29034.104557,
      "end_time": "2021-09-04T10:17:26.421609",
      "environment_variables": {},
      "exception": null,
      "input_path": "__notebook__.ipynb",
      "output_path": "__notebook__.ipynb",
      "parameters": {},
      "start_time": "2021-09-04T02:13:32.317052",
      "version": "2.3.3"
    },
    "widgets": {
      "application/vnd.jupyter.widget-state+json": {}
    },
    "colab": {
      "name": "Diabetic_retinopathy_detection.ipynb",
      "provenance": []
    }
  },
  "nbformat": 4,
  "nbformat_minor": 5
}